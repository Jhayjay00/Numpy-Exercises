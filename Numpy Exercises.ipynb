{
 "cells": [
  {
   "cell_type": "code",
   "execution_count": 3,
   "id": "730e9125-ab78-46cf-bf47-acf3edafd46e",
   "metadata": {},
   "outputs": [
    {
     "name": "stdout",
     "output_type": "stream",
     "text": [
      "(2, 3, 3)\n",
      "int32\n",
      "18\n"
     ]
    },
    {
     "data": {
      "text/plain": [
       "3"
      ]
     },
     "execution_count": 3,
     "metadata": {},
     "output_type": "execute_result"
    }
   ],
   "source": [
    "import numpy as np\n",
    "\n",
    "#create a 1-dimensional array\n",
    "a1 = np.array([1,2,3])\n",
    "\n",
    "#create a 2-dimensional array\n",
    "a2 = np.array([[1,2,3],\n",
    "               [4,5,6]])\n",
    "\n",
    "#create a 3-dimensional array\n",
    "a3 = np.array([[[1,2,3],\n",
    "               [4,5,6],\n",
    "               [7,8,9]],\n",
    "                  [[1,2,3],\n",
    "                   [4,5,6],\n",
    "                   [7,8,9]],\n",
    "              ])\n",
    "\n",
    "print(a3.shape)\n",
    "print(a3.dtype)\n",
    "print(a3.size)\n",
    "\n",
    "a3.ndim"
   ]
  },
  {
   "cell_type": "code",
   "execution_count": 4,
   "id": "8bfadeab-c379-46b4-a973-fee123b27698",
   "metadata": {},
   "outputs": [
    {
     "data": {
      "text/plain": [
       "array([[1., 1.],\n",
       "       [1., 1.],\n",
       "       [1., 1.],\n",
       "       [1., 1.],\n",
       "       [1., 1.],\n",
       "       [1., 1.],\n",
       "       [1., 1.],\n",
       "       [1., 1.],\n",
       "       [1., 1.],\n",
       "       [1., 1.]])"
      ]
     },
     "execution_count": 4,
     "metadata": {},
     "output_type": "execute_result"
    }
   ],
   "source": [
    "#create an array of only ones\n",
    "\n",
    "ones = np.ones((10,2))\n",
    "ones"
   ]
  },
  {
   "cell_type": "code",
   "execution_count": 7,
   "id": "aefa420b-aac6-4bcc-b55a-756365dcf5e2",
   "metadata": {},
   "outputs": [
    {
     "data": {
      "text/plain": [
       "array([ 0,  3,  6,  9, 12, 15, 18, 21, 24, 27, 30, 33, 36, 39, 42, 45, 48,\n",
       "       51, 54, 57, 60, 63, 66, 69, 72, 75, 78, 81, 84, 87, 90, 93, 96, 99])"
      ]
     },
     "execution_count": 7,
     "metadata": {},
     "output_type": "execute_result"
    }
   ],
   "source": [
    "#create an array within a range of 0 to 100 with step 3 \n",
    "\n",
    "arange_array = np.arange(0,100,3)\n",
    "\n",
    "arange_array"
   ]
  },
  {
   "cell_type": "code",
   "execution_count": 11,
   "id": "4a73f9f9-cec3-431b-aece-9eb0b4ed4b60",
   "metadata": {},
   "outputs": [
    {
     "data": {
      "text/plain": [
       "array([[4900, 8281,   49, 1369, 3136, 2500],\n",
       "       [4225,  144, 5041,  361,  961, 5476],\n",
       "       [3025, 6889, 3481, 8281, 5329, 9216],\n",
       "       [2401, 2809, 5329,   64, 2704,  900]])"
      ]
     },
     "execution_count": 11,
     "metadata": {},
     "output_type": "execute_result"
    }
   ],
   "source": [
    "#create a random array pf numbers between 0 to 10 of size (4,6)\n",
    "\n",
    "np.random.seed(40)\n",
    "\n",
    "a4 = np.random.randint(100, size=(4,6))\n",
    "\n",
    "a4.shape\n",
    "a4.size\n",
    "\n",
    "a4.reshape(2, 12)\n",
    "\n",
    "np.square(a4)\n"
   ]
  },
  {
   "cell_type": "code",
   "execution_count": 14,
   "id": "634074d6-5ff7-4fe0-ba23-7ee2c8100384",
   "metadata": {},
   "outputs": [
    {
     "name": "stdout",
     "output_type": "stream",
     "text": [
      "[[8]]\n",
      "[[6]]\n"
     ]
    },
    {
     "data": {
      "text/plain": [
       "array([[48]])"
      ]
     },
     "execution_count": 14,
     "metadata": {},
     "output_type": "execute_result"
    }
   ],
   "source": [
    "#perform a dot product calculation on  two arrays \n",
    "\n",
    "a1 = np.random.randint(10, size=(1,1))\n",
    "a2 = np.random.randint(10, size=(1,1))   \n",
    "\n",
    "print(a1)\n",
    "print(a2)\n",
    "\n",
    "np.dot(a1, a2)\n"
   ]
  },
  {
   "cell_type": "code",
   "execution_count": null,
   "id": "5f5ba676-e9eb-4c57-9c57-192bbac5f5c0",
   "metadata": {},
   "outputs": [],
   "source": []
  }
 ],
 "metadata": {
  "kernelspec": {
   "display_name": "Python 3 (ipykernel)",
   "language": "python",
   "name": "python3"
  },
  "language_info": {
   "codemirror_mode": {
    "name": "ipython",
    "version": 3
   },
   "file_extension": ".py",
   "mimetype": "text/x-python",
   "name": "python",
   "nbconvert_exporter": "python",
   "pygments_lexer": "ipython3",
   "version": "3.11.7"
  }
 },
 "nbformat": 4,
 "nbformat_minor": 5
}
